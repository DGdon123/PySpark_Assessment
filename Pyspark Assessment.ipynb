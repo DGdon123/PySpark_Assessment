{
 "cells": [
  {
   "cell_type": "markdown",
   "metadata": {
    "application/vnd.databricks.v1+cell": {
     "cellMetadata": {},
     "inputWidgets": {},
     "nuid": "96816ed7-b08a-4ca3-abb9-f99880c3535d",
     "showTitle": false,
     "tableResultSettingsMap": {},
     "title": ""
    }
   },
   "source": [
    "\n",
    "## Overview\n",
    "\n",
    "This notebook will show you how to create and query a table or DataFrame that you uploaded to DBFS. [DBFS](https://docs.databricks.com/user-guide/dbfs-databricks-file-system.html) is a Databricks File System that allows you to store data for querying inside of Databricks. This notebook assumes that you have a file already inside of DBFS that you would like to read from.\n",
    "\n",
    "This notebook is written in **Python** so the default cell type is Python. However, you can use different languages by using the `%LANGUAGE` syntax. Python, Scala, SQL, and R are all supported."
   ]
  },
  {
   "cell_type": "code",
   "execution_count": 0,
   "metadata": {
    "application/vnd.databricks.v1+cell": {
     "cellMetadata": {
      "byteLimit": 2048000,
      "rowLimit": 10000
     },
     "inputWidgets": {},
     "nuid": "6482be4c-f067-47c9-b0ac-35c938b94601",
     "showTitle": false,
     "tableResultSettingsMap": {},
     "title": ""
    }
   },
   "outputs": [
    {
     "output_type": "display_data",
     "data": {
      "text/html": [
       "<style scoped>\n",
       "  .table-result-container {\n",
       "    max-height: 300px;\n",
       "    overflow: auto;\n",
       "  }\n",
       "  table, th, td {\n",
       "    border: 1px solid black;\n",
       "    border-collapse: collapse;\n",
       "  }\n",
       "  th, td {\n",
       "    padding: 5px;\n",
       "  }\n",
       "  th {\n",
       "    text-align: left;\n",
       "  }\n",
       "</style><div class='table-result-container'><table class='table-result'><thead style='background-color: white'><tr><th>_c0</th><th>_c1</th><th>_c2</th><th>_c3</th><th>_c4</th><th>_c5</th></tr></thead><tbody><tr><td>id</td><td>name</td><td>age</td><td>department</td><td>salary</td><td>join_date</td></tr><tr><td>1</td><td>John</td><td>34</td><td>IT</td><td>75000</td><td>2015-06-01</td></tr><tr><td>2</td><td>Sara</td><td>28</td><td>HR</td><td>58000</td><td>2019-09-15</td></tr><tr><td>3</td><td>Michael</td><td>45</td><td>Finance</td><td>120000</td><td>2010-01-10</td></tr><tr><td>4</td><td>Karen</td><td>29</td><td>IT</td><td>70000</td><td>2020-02-19</td></tr><tr><td>5</td><td>David</td><td>38</td><td>Finance</td><td>90000</td><td>2017-08-23</td></tr><tr><td>6</td><td>Linda</td><td>33</td><td>HR</td><td>60000</td><td>2018-12-05</td></tr><tr><td>7</td><td>James</td><td>41</td><td>IT</td><td>110000</td><td>2013-04-15</td></tr><tr><td>8</td><td>Emily</td><td>27</td><td>HR</td><td>52000</td><td>2021-06-20</td></tr><tr><td>9</td><td>Robert</td><td>36</td><td>Finance</td><td>105000</td><td>2016-11-30</td></tr></tbody></table></div>"
      ]
     },
     "metadata": {
      "application/vnd.databricks.v1+output": {
       "addedWidgets": {},
       "aggData": [],
       "aggError": "",
       "aggOverflow": false,
       "aggSchema": [],
       "aggSeriesLimitReached": false,
       "aggType": "",
       "arguments": {},
       "columnCustomDisplayInfos": {},
       "data": [
        [
         "id",
         "name",
         "age",
         "department",
         "salary",
         "join_date"
        ],
        [
         "1",
         "John",
         "34",
         "IT",
         "75000",
         "2015-06-01"
        ],
        [
         "2",
         "Sara",
         "28",
         "HR",
         "58000",
         "2019-09-15"
        ],
        [
         "3",
         "Michael",
         "45",
         "Finance",
         "120000",
         "2010-01-10"
        ],
        [
         "4",
         "Karen",
         "29",
         "IT",
         "70000",
         "2020-02-19"
        ],
        [
         "5",
         "David",
         "38",
         "Finance",
         "90000",
         "2017-08-23"
        ],
        [
         "6",
         "Linda",
         "33",
         "HR",
         "60000",
         "2018-12-05"
        ],
        [
         "7",
         "James",
         "41",
         "IT",
         "110000",
         "2013-04-15"
        ],
        [
         "8",
         "Emily",
         "27",
         "HR",
         "52000",
         "2021-06-20"
        ],
        [
         "9",
         "Robert",
         "36",
         "Finance",
         "105000",
         "2016-11-30"
        ]
       ],
       "datasetInfos": [],
       "dbfsResultPath": null,
       "isJsonSchema": true,
       "metadata": {},
       "overflow": false,
       "plotOptions": {
        "customPlotOptions": {},
        "displayType": "table",
        "pivotAggregation": null,
        "pivotColumns": null,
        "xColumns": null,
        "yColumns": null
       },
       "removedWidgets": [],
       "schema": [
        {
         "metadata": "{}",
         "name": "_c0",
         "type": "\"string\""
        },
        {
         "metadata": "{}",
         "name": "_c1",
         "type": "\"string\""
        },
        {
         "metadata": "{}",
         "name": "_c2",
         "type": "\"string\""
        },
        {
         "metadata": "{}",
         "name": "_c3",
         "type": "\"string\""
        },
        {
         "metadata": "{}",
         "name": "_c4",
         "type": "\"string\""
        },
        {
         "metadata": "{}",
         "name": "_c5",
         "type": "\"string\""
        }
       ],
       "type": "table"
      }
     },
     "output_type": "display_data"
    }
   ],
   "source": [
    "# File location and type\n",
    "file_location = \"/FileStore/tables/result__1_.csv\"\n",
    "file_type = \"csv\"\n",
    "\n",
    "# CSV options\n",
    "infer_schema = \"false\"\n",
    "first_row_is_header = \"false\"\n",
    "delimiter = \",\"\n",
    "\n",
    "# The applied options are for CSV files. For other file types, these will be ignored.\n",
    "df = spark.read.format(file_type) \\\n",
    "  .option(\"inferSchema\", infer_schema) \\\n",
    "  .option(\"header\", first_row_is_header) \\\n",
    "  .option(\"sep\", delimiter) \\\n",
    "  .load(file_location)\n",
    "\n",
    "display(df)"
   ]
  },
  {
   "cell_type": "code",
   "execution_count": 0,
   "metadata": {
    "application/vnd.databricks.v1+cell": {
     "cellMetadata": {
      "byteLimit": 2048000,
      "rowLimit": 10000
     },
     "inputWidgets": {},
     "nuid": "bd82bb99-1479-4d5c-be10-8c36df0f1d44",
     "showTitle": false,
     "tableResultSettingsMap": {},
     "title": ""
    }
   },
   "outputs": [],
   "source": [
    "# Create a view or table\n",
    "\n",
    "temp_table_name = \"result__1__csv\"\n",
    "\n",
    "df.createOrReplaceTempView(temp_table_name)"
   ]
  },
  {
   "cell_type": "code",
   "execution_count": 0,
   "metadata": {
    "application/vnd.databricks.v1+cell": {
     "cellMetadata": {
      "byteLimit": 2048000,
      "implicitDf": true,
      "rowLimit": 10000
     },
     "inputWidgets": {},
     "nuid": "b5f66379-6f7f-42ec-8e82-d0e0926a1721",
     "showTitle": false,
     "tableResultSettingsMap": {},
     "title": ""
    }
   },
   "outputs": [
    {
     "output_type": "display_data",
     "data": {
      "text/html": [
       "<style scoped>\n",
       "  .table-result-container {\n",
       "    max-height: 300px;\n",
       "    overflow: auto;\n",
       "  }\n",
       "  table, th, td {\n",
       "    border: 1px solid black;\n",
       "    border-collapse: collapse;\n",
       "  }\n",
       "  th, td {\n",
       "    padding: 5px;\n",
       "  }\n",
       "  th {\n",
       "    text-align: left;\n",
       "  }\n",
       "</style><div class='table-result-container'><table class='table-result'><thead style='background-color: white'><tr><th>_c0</th><th>_c1</th><th>_c2</th><th>_c3</th><th>_c4</th><th>_c5</th></tr></thead><tbody><tr><td>id</td><td>name</td><td>age</td><td>department</td><td>salary</td><td>join_date</td></tr><tr><td>1</td><td>John</td><td>34</td><td>IT</td><td>75000</td><td>2015-06-01</td></tr><tr><td>2</td><td>Sara</td><td>28</td><td>HR</td><td>58000</td><td>2019-09-15</td></tr><tr><td>3</td><td>Michael</td><td>45</td><td>Finance</td><td>120000</td><td>2010-01-10</td></tr><tr><td>4</td><td>Karen</td><td>29</td><td>IT</td><td>70000</td><td>2020-02-19</td></tr><tr><td>5</td><td>David</td><td>38</td><td>Finance</td><td>90000</td><td>2017-08-23</td></tr><tr><td>6</td><td>Linda</td><td>33</td><td>HR</td><td>60000</td><td>2018-12-05</td></tr><tr><td>7</td><td>James</td><td>41</td><td>IT</td><td>110000</td><td>2013-04-15</td></tr><tr><td>8</td><td>Emily</td><td>27</td><td>HR</td><td>52000</td><td>2021-06-20</td></tr><tr><td>9</td><td>Robert</td><td>36</td><td>Finance</td><td>105000</td><td>2016-11-30</td></tr></tbody></table></div>"
      ]
     },
     "metadata": {
      "application/vnd.databricks.v1+output": {
       "addedWidgets": {},
       "aggData": [],
       "aggError": "",
       "aggOverflow": false,
       "aggSchema": [],
       "aggSeriesLimitReached": false,
       "aggType": "",
       "arguments": {},
       "columnCustomDisplayInfos": {},
       "data": [
        [
         "id",
         "name",
         "age",
         "department",
         "salary",
         "join_date"
        ],
        [
         "1",
         "John",
         "34",
         "IT",
         "75000",
         "2015-06-01"
        ],
        [
         "2",
         "Sara",
         "28",
         "HR",
         "58000",
         "2019-09-15"
        ],
        [
         "3",
         "Michael",
         "45",
         "Finance",
         "120000",
         "2010-01-10"
        ],
        [
         "4",
         "Karen",
         "29",
         "IT",
         "70000",
         "2020-02-19"
        ],
        [
         "5",
         "David",
         "38",
         "Finance",
         "90000",
         "2017-08-23"
        ],
        [
         "6",
         "Linda",
         "33",
         "HR",
         "60000",
         "2018-12-05"
        ],
        [
         "7",
         "James",
         "41",
         "IT",
         "110000",
         "2013-04-15"
        ],
        [
         "8",
         "Emily",
         "27",
         "HR",
         "52000",
         "2021-06-20"
        ],
        [
         "9",
         "Robert",
         "36",
         "Finance",
         "105000",
         "2016-11-30"
        ]
       ],
       "datasetInfos": [],
       "dbfsResultPath": null,
       "isJsonSchema": true,
       "metadata": {},
       "overflow": false,
       "plotOptions": {
        "customPlotOptions": {},
        "displayType": "table",
        "pivotAggregation": null,
        "pivotColumns": null,
        "xColumns": null,
        "yColumns": null
       },
       "removedWidgets": [],
       "schema": [
        {
         "metadata": "{}",
         "name": "_c0",
         "type": "\"string\""
        },
        {
         "metadata": "{}",
         "name": "_c1",
         "type": "\"string\""
        },
        {
         "metadata": "{}",
         "name": "_c2",
         "type": "\"string\""
        },
        {
         "metadata": "{}",
         "name": "_c3",
         "type": "\"string\""
        },
        {
         "metadata": "{}",
         "name": "_c4",
         "type": "\"string\""
        },
        {
         "metadata": "{}",
         "name": "_c5",
         "type": "\"string\""
        }
       ],
       "type": "table"
      }
     },
     "output_type": "display_data"
    }
   ],
   "source": [
    "%sql\n",
    "\n",
    "/* Query the created temp table in a SQL cell */\n",
    "\n",
    "select * from `result__1__csv`"
   ]
  },
  {
   "cell_type": "code",
   "execution_count": 0,
   "metadata": {
    "application/vnd.databricks.v1+cell": {
     "cellMetadata": {
      "byteLimit": 2048000,
      "rowLimit": 10000
     },
     "inputWidgets": {},
     "nuid": "db9631f6-bb4a-42ca-8a3c-0d48af932331",
     "showTitle": false,
     "tableResultSettingsMap": {},
     "title": ""
    }
   },
   "outputs": [],
   "source": [
    "# With this registered as a temp view, it will only be available to this particular notebook. If you'd like other users to be able to query this table, you can also create a table from the DataFrame.\n",
    "# Once saved, this table will persist across cluster restarts as well as allow various users across different notebooks to query this data.\n",
    "# To do so, choose your table name and uncomment the bottom line.\n",
    "\n",
    "permanent_table_name = \"result__1__csv\"\n",
    "\n",
    "# df.write.format(\"parquet\").saveAsTable(permanent_table_name)"
   ]
  },
  {
   "cell_type": "code",
   "execution_count": 0,
   "metadata": {
    "application/vnd.databricks.v1+cell": {
     "cellMetadata": {
      "byteLimit": 2048000,
      "rowLimit": 10000
     },
     "inputWidgets": {},
     "nuid": "c66724b4-23a5-446d-9135-1ea6064a32bf",
     "showTitle": false,
     "tableResultSettingsMap": {},
     "title": ""
    }
   },
   "outputs": [
    {
     "output_type": "display_data",
     "data": {
      "text/html": [
       "<style scoped>\n",
       "  .table-result-container {\n",
       "    max-height: 300px;\n",
       "    overflow: auto;\n",
       "  }\n",
       "  table, th, td {\n",
       "    border: 1px solid black;\n",
       "    border-collapse: collapse;\n",
       "  }\n",
       "  th, td {\n",
       "    padding: 5px;\n",
       "  }\n",
       "  th {\n",
       "    text-align: left;\n",
       "  }\n",
       "</style><div class='table-result-container'><table class='table-result'><thead style='background-color: white'><tr><th>id</th><th>name</th><th>age</th><th>department</th><th>salary</th><th>join_date</th></tr></thead><tbody><tr><td>1</td><td>John</td><td>34</td><td>IT</td><td>75000</td><td>2015-06-01</td></tr><tr><td>2</td><td>Sara</td><td>28</td><td>HR</td><td>58000</td><td>2019-09-15</td></tr><tr><td>3</td><td>Michael</td><td>45</td><td>Finance</td><td>120000</td><td>2010-01-10</td></tr><tr><td>4</td><td>Karen</td><td>29</td><td>IT</td><td>70000</td><td>2020-02-19</td></tr><tr><td>5</td><td>David</td><td>38</td><td>Finance</td><td>90000</td><td>2017-08-23</td></tr><tr><td>6</td><td>Linda</td><td>33</td><td>HR</td><td>60000</td><td>2018-12-05</td></tr><tr><td>7</td><td>James</td><td>41</td><td>IT</td><td>110000</td><td>2013-04-15</td></tr><tr><td>8</td><td>Emily</td><td>27</td><td>HR</td><td>52000</td><td>2021-06-20</td></tr><tr><td>9</td><td>Robert</td><td>36</td><td>Finance</td><td>105000</td><td>2016-11-30</td></tr></tbody></table></div>"
      ]
     },
     "metadata": {
      "application/vnd.databricks.v1+output": {
       "addedWidgets": {},
       "aggData": [],
       "aggError": "",
       "aggOverflow": false,
       "aggSchema": [],
       "aggSeriesLimitReached": false,
       "aggType": "",
       "arguments": {},
       "columnCustomDisplayInfos": {},
       "data": [
        [
         1,
         "John",
         34,
         "IT",
         75000,
         "2015-06-01"
        ],
        [
         2,
         "Sara",
         28,
         "HR",
         58000,
         "2019-09-15"
        ],
        [
         3,
         "Michael",
         45,
         "Finance",
         120000,
         "2010-01-10"
        ],
        [
         4,
         "Karen",
         29,
         "IT",
         70000,
         "2020-02-19"
        ],
        [
         5,
         "David",
         38,
         "Finance",
         90000,
         "2017-08-23"
        ],
        [
         6,
         "Linda",
         33,
         "HR",
         60000,
         "2018-12-05"
        ],
        [
         7,
         "James",
         41,
         "IT",
         110000,
         "2013-04-15"
        ],
        [
         8,
         "Emily",
         27,
         "HR",
         52000,
         "2021-06-20"
        ],
        [
         9,
         "Robert",
         36,
         "Finance",
         105000,
         "2016-11-30"
        ]
       ],
       "datasetInfos": [],
       "dbfsResultPath": null,
       "isJsonSchema": true,
       "metadata": {},
       "overflow": false,
       "plotOptions": {
        "customPlotOptions": {},
        "displayType": "table",
        "pivotAggregation": null,
        "pivotColumns": null,
        "xColumns": null,
        "yColumns": null
       },
       "removedWidgets": [],
       "schema": [
        {
         "metadata": "{}",
         "name": "id",
         "type": "\"integer\""
        },
        {
         "metadata": "{}",
         "name": "name",
         "type": "\"string\""
        },
        {
         "metadata": "{}",
         "name": "age",
         "type": "\"integer\""
        },
        {
         "metadata": "{}",
         "name": "department",
         "type": "\"string\""
        },
        {
         "metadata": "{}",
         "name": "salary",
         "type": "\"integer\""
        },
        {
         "metadata": "{}",
         "name": "join_date",
         "type": "\"string\""
        }
       ],
       "type": "table"
      }
     },
     "output_type": "display_data"
    },
    {
     "output_type": "stream",
     "name": "stdout",
     "output_type": "stream",
     "text": [
      "root\n |-- id: integer (nullable = true)\n |-- name: string (nullable = true)\n |-- age: integer (nullable = true)\n |-- department: string (nullable = true)\n |-- salary: integer (nullable = true)\n |-- join_date: string (nullable = true)\n\n"
     ]
    }
   ],
   "source": [
    "from pyspark.sql import SparkSession\n",
    "from pyspark.sql.types import *\n",
    "\n",
    "my_schema = StructType([\n",
    "    StructField(\"id\",IntegerType(),True),\n",
    "    StructField(\"name\",StringType(),True),\n",
    "    StructField(\"age\",IntegerType(),True),\n",
    "    StructField(\"department\",StringType(),True),\n",
    "    StructField(\"salary\",IntegerType(),True),\n",
    "    StructField(\"join_date\",StringType(),True)\n",
    "])\n",
    "\n",
    "df=spark.read.format(\"csv\").schema(my_schema).option(\"header\",True).load('/FileStore/tables/result__1_.csv')\n",
    "\n",
    "df.display()\n",
    "df.printSchema()"
   ]
  },
  {
   "cell_type": "markdown",
   "metadata": {
    "application/vnd.databricks.v1+cell": {
     "cellMetadata": {},
     "inputWidgets": {},
     "nuid": "f45c339c-eac7-4f63-ae94-49244b79fd92",
     "showTitle": false,
     "tableResultSettingsMap": {},
     "title": ""
    }
   },
   "source": [
    "Display records of employees aged above 30."
   ]
  },
  {
   "cell_type": "code",
   "execution_count": 0,
   "metadata": {
    "application/vnd.databricks.v1+cell": {
     "cellMetadata": {
      "byteLimit": 2048000,
      "rowLimit": 10000
     },
     "inputWidgets": {},
     "nuid": "4744d257-457e-416c-bbb5-03a51f7e5281",
     "showTitle": false,
     "tableResultSettingsMap": {},
     "title": ""
    }
   },
   "outputs": [
    {
     "output_type": "display_data",
     "data": {
      "text/html": [
       "<style scoped>\n",
       "  .table-result-container {\n",
       "    max-height: 300px;\n",
       "    overflow: auto;\n",
       "  }\n",
       "  table, th, td {\n",
       "    border: 1px solid black;\n",
       "    border-collapse: collapse;\n",
       "  }\n",
       "  th, td {\n",
       "    padding: 5px;\n",
       "  }\n",
       "  th {\n",
       "    text-align: left;\n",
       "  }\n",
       "</style><div class='table-result-container'><table class='table-result'><thead style='background-color: white'><tr><th>id</th><th>name</th><th>age</th><th>department</th><th>salary</th><th>join_date</th></tr></thead><tbody><tr><td>1</td><td>John</td><td>34</td><td>IT</td><td>75000</td><td>2015-06-01</td></tr><tr><td>3</td><td>Michael</td><td>45</td><td>Finance</td><td>120000</td><td>2010-01-10</td></tr><tr><td>5</td><td>David</td><td>38</td><td>Finance</td><td>90000</td><td>2017-08-23</td></tr><tr><td>6</td><td>Linda</td><td>33</td><td>HR</td><td>60000</td><td>2018-12-05</td></tr><tr><td>7</td><td>James</td><td>41</td><td>IT</td><td>110000</td><td>2013-04-15</td></tr><tr><td>9</td><td>Robert</td><td>36</td><td>Finance</td><td>105000</td><td>2016-11-30</td></tr></tbody></table></div>"
      ]
     },
     "metadata": {
      "application/vnd.databricks.v1+output": {
       "addedWidgets": {},
       "aggData": [],
       "aggError": "",
       "aggOverflow": false,
       "aggSchema": [],
       "aggSeriesLimitReached": false,
       "aggType": "",
       "arguments": {},
       "columnCustomDisplayInfos": {},
       "data": [
        [
         1,
         "John",
         34,
         "IT",
         75000,
         "2015-06-01"
        ],
        [
         3,
         "Michael",
         45,
         "Finance",
         120000,
         "2010-01-10"
        ],
        [
         5,
         "David",
         38,
         "Finance",
         90000,
         "2017-08-23"
        ],
        [
         6,
         "Linda",
         33,
         "HR",
         60000,
         "2018-12-05"
        ],
        [
         7,
         "James",
         41,
         "IT",
         110000,
         "2013-04-15"
        ],
        [
         9,
         "Robert",
         36,
         "Finance",
         105000,
         "2016-11-30"
        ]
       ],
       "datasetInfos": [],
       "dbfsResultPath": null,
       "isJsonSchema": true,
       "metadata": {},
       "overflow": false,
       "plotOptions": {
        "customPlotOptions": {},
        "displayType": "table",
        "pivotAggregation": null,
        "pivotColumns": null,
        "xColumns": null,
        "yColumns": null
       },
       "removedWidgets": [],
       "schema": [
        {
         "metadata": "{}",
         "name": "id",
         "type": "\"integer\""
        },
        {
         "metadata": "{}",
         "name": "name",
         "type": "\"string\""
        },
        {
         "metadata": "{}",
         "name": "age",
         "type": "\"integer\""
        },
        {
         "metadata": "{}",
         "name": "department",
         "type": "\"string\""
        },
        {
         "metadata": "{}",
         "name": "salary",
         "type": "\"integer\""
        },
        {
         "metadata": "{}",
         "name": "join_date",
         "type": "\"string\""
        }
       ],
       "type": "table"
      }
     },
     "output_type": "display_data"
    }
   ],
   "source": [
    "\n",
    "from pyspark.sql.functions import col\n",
    "\n",
    "df.filter(col(\"age\")>30).display()"
   ]
  },
  {
   "cell_type": "markdown",
   "metadata": {
    "application/vnd.databricks.v1+cell": {
     "cellMetadata": {},
     "inputWidgets": {},
     "nuid": "bd6f667f-2ed7-491a-9ff2-8b15e4089909",
     "showTitle": false,
     "tableResultSettingsMap": {},
     "title": ""
    }
   },
   "source": [
    "Find the average salary of employees in each department."
   ]
  },
  {
   "cell_type": "code",
   "execution_count": 0,
   "metadata": {
    "application/vnd.databricks.v1+cell": {
     "cellMetadata": {
      "byteLimit": 2048000,
      "rowLimit": 10000
     },
     "inputWidgets": {},
     "nuid": "aa03e0b8-0772-47e6-bef0-540402ca24ae",
     "showTitle": false,
     "tableResultSettingsMap": {},
     "title": ""
    }
   },
   "outputs": [
    {
     "output_type": "display_data",
     "data": {
      "text/html": [
       "<style scoped>\n",
       "  .table-result-container {\n",
       "    max-height: 300px;\n",
       "    overflow: auto;\n",
       "  }\n",
       "  table, th, td {\n",
       "    border: 1px solid black;\n",
       "    border-collapse: collapse;\n",
       "  }\n",
       "  th, td {\n",
       "    padding: 5px;\n",
       "  }\n",
       "  th {\n",
       "    text-align: left;\n",
       "  }\n",
       "</style><div class='table-result-container'><table class='table-result'><thead style='background-color: white'><tr><th>department</th><th>Averge_Salary</th></tr></thead><tbody><tr><td>HR</td><td>56666.666666666664</td></tr><tr><td>Finance</td><td>105000.0</td></tr><tr><td>IT</td><td>85000.0</td></tr></tbody></table></div>"
      ]
     },
     "metadata": {
      "application/vnd.databricks.v1+output": {
       "addedWidgets": {},
       "aggData": [],
       "aggError": "",
       "aggOverflow": false,
       "aggSchema": [],
       "aggSeriesLimitReached": false,
       "aggType": "",
       "arguments": {},
       "columnCustomDisplayInfos": {},
       "data": [
        [
         "HR",
         56666.666666666664
        ],
        [
         "Finance",
         105000.0
        ],
        [
         "IT",
         85000.0
        ]
       ],
       "datasetInfos": [],
       "dbfsResultPath": null,
       "isJsonSchema": true,
       "metadata": {},
       "overflow": false,
       "plotOptions": {
        "customPlotOptions": {},
        "displayType": "table",
        "pivotAggregation": null,
        "pivotColumns": null,
        "xColumns": null,
        "yColumns": null
       },
       "removedWidgets": [],
       "schema": [
        {
         "metadata": "{}",
         "name": "department",
         "type": "\"string\""
        },
        {
         "metadata": "{}",
         "name": "Averge_Salary",
         "type": "\"double\""
        }
       ],
       "type": "table"
      }
     },
     "output_type": "display_data"
    }
   ],
   "source": [
    "from pyspark.sql.functions import *\n",
    "\n",
    "df.groupBy(\"department\").agg(avg(\"salary\").alias(\"Averge_Salary\")).display()"
   ]
  },
  {
   "cell_type": "markdown",
   "metadata": {
    "application/vnd.databricks.v1+cell": {
     "cellMetadata": {},
     "inputWidgets": {},
     "nuid": "a3ff6bc0-a0a8-42df-b746-2750e936a0bf",
     "showTitle": false,
     "tableResultSettingsMap": {},
     "title": ""
    }
   },
   "source": [
    "Add a column experience indicating the number of years an employee has been working."
   ]
  },
  {
   "cell_type": "code",
   "execution_count": 0,
   "metadata": {
    "application/vnd.databricks.v1+cell": {
     "cellMetadata": {
      "byteLimit": 2048000,
      "rowLimit": 10000
     },
     "inputWidgets": {},
     "nuid": "b30d8911-dcd3-4aed-a537-6df4f9a1cec1",
     "showTitle": false,
     "tableResultSettingsMap": {},
     "title": ""
    }
   },
   "outputs": [
    {
     "output_type": "display_data",
     "data": {
      "text/html": [
       "<style scoped>\n",
       "  .table-result-container {\n",
       "    max-height: 300px;\n",
       "    overflow: auto;\n",
       "  }\n",
       "  table, th, td {\n",
       "    border: 1px solid black;\n",
       "    border-collapse: collapse;\n",
       "  }\n",
       "  th, td {\n",
       "    padding: 5px;\n",
       "  }\n",
       "  th {\n",
       "    text-align: left;\n",
       "  }\n",
       "</style><div class='table-result-container'><table class='table-result'><thead style='background-color: white'><tr><th>id</th><th>name</th><th>age</th><th>department</th><th>salary</th><th>join_date</th><th>experience</th></tr></thead><tbody><tr><td>1</td><td>John</td><td>34</td><td>IT</td><td>75000</td><td>2015-06-01</td><td>9</td></tr><tr><td>2</td><td>Sara</td><td>28</td><td>HR</td><td>58000</td><td>2019-09-15</td><td>5</td></tr><tr><td>3</td><td>Michael</td><td>45</td><td>Finance</td><td>120000</td><td>2010-01-10</td><td>14</td></tr><tr><td>4</td><td>Karen</td><td>29</td><td>IT</td><td>70000</td><td>2020-02-19</td><td>4</td></tr><tr><td>5</td><td>David</td><td>38</td><td>Finance</td><td>90000</td><td>2017-08-23</td><td>7</td></tr><tr><td>6</td><td>Linda</td><td>33</td><td>HR</td><td>60000</td><td>2018-12-05</td><td>6</td></tr><tr><td>7</td><td>James</td><td>41</td><td>IT</td><td>110000</td><td>2013-04-15</td><td>11</td></tr><tr><td>8</td><td>Emily</td><td>27</td><td>HR</td><td>52000</td><td>2021-06-20</td><td>3</td></tr><tr><td>9</td><td>Robert</td><td>36</td><td>Finance</td><td>105000</td><td>2016-11-30</td><td>8</td></tr></tbody></table></div>"
      ]
     },
     "metadata": {
      "application/vnd.databricks.v1+output": {
       "addedWidgets": {},
       "aggData": [],
       "aggError": "",
       "aggOverflow": false,
       "aggSchema": [],
       "aggSeriesLimitReached": false,
       "aggType": "",
       "arguments": {},
       "columnCustomDisplayInfos": {},
       "data": [
        [
         1,
         "John",
         34,
         "IT",
         75000,
         "2015-06-01",
         9
        ],
        [
         2,
         "Sara",
         28,
         "HR",
         58000,
         "2019-09-15",
         5
        ],
        [
         3,
         "Michael",
         45,
         "Finance",
         120000,
         "2010-01-10",
         14
        ],
        [
         4,
         "Karen",
         29,
         "IT",
         70000,
         "2020-02-19",
         4
        ],
        [
         5,
         "David",
         38,
         "Finance",
         90000,
         "2017-08-23",
         7
        ],
        [
         6,
         "Linda",
         33,
         "HR",
         60000,
         "2018-12-05",
         6
        ],
        [
         7,
         "James",
         41,
         "IT",
         110000,
         "2013-04-15",
         11
        ],
        [
         8,
         "Emily",
         27,
         "HR",
         52000,
         "2021-06-20",
         3
        ],
        [
         9,
         "Robert",
         36,
         "Finance",
         105000,
         "2016-11-30",
         8
        ]
       ],
       "datasetInfos": [],
       "dbfsResultPath": null,
       "isJsonSchema": true,
       "metadata": {},
       "overflow": false,
       "plotOptions": {
        "customPlotOptions": {},
        "displayType": "table",
        "pivotAggregation": null,
        "pivotColumns": null,
        "xColumns": null,
        "yColumns": null
       },
       "removedWidgets": [],
       "schema": [
        {
         "metadata": "{}",
         "name": "id",
         "type": "\"integer\""
        },
        {
         "metadata": "{}",
         "name": "name",
         "type": "\"string\""
        },
        {
         "metadata": "{}",
         "name": "age",
         "type": "\"integer\""
        },
        {
         "metadata": "{}",
         "name": "department",
         "type": "\"string\""
        },
        {
         "metadata": "{}",
         "name": "salary",
         "type": "\"integer\""
        },
        {
         "metadata": "{}",
         "name": "join_date",
         "type": "\"string\""
        },
        {
         "metadata": "{}",
         "name": "experience",
         "type": "\"integer\""
        }
       ],
       "type": "table"
      }
     },
     "output_type": "display_data"
    }
   ],
   "source": [
    "from datetime import datetime\n",
    "from pyspark.sql import SparkSession\n",
    "from pyspark.sql.functions import col, lit, year\n",
    "\n",
    "# Calculate current year\n",
    "current_year = datetime.now().year\n",
    "\n",
    "# Add 'experience' column\n",
    "df_with_experience = df.withColumn(\n",
    "    \"experience\", lit(current_year) - year(col(\"join_date\"))\n",
    ")\n",
    "\n",
    "# Show result\n",
    "df_with_experience.display()"
   ]
  },
  {
   "cell_type": "markdown",
   "metadata": {
    "application/vnd.databricks.v1+cell": {
     "cellMetadata": {},
     "inputWidgets": {},
     "nuid": "a012af9b-fff0-457c-b1fb-7cade6be8df1",
     "showTitle": false,
     "tableResultSettingsMap": {},
     "title": ""
    }
   },
   "source": [
    "Find the top 3 highest-paid employees."
   ]
  },
  {
   "cell_type": "code",
   "execution_count": 0,
   "metadata": {
    "application/vnd.databricks.v1+cell": {
     "cellMetadata": {
      "byteLimit": 2048000,
      "rowLimit": 10000
     },
     "inputWidgets": {},
     "nuid": "68570bed-47a9-4ada-ab19-06fedbf6cf1d",
     "showTitle": false,
     "tableResultSettingsMap": {},
     "title": ""
    }
   },
   "outputs": [
    {
     "output_type": "display_data",
     "data": {
      "text/html": [
       "<style scoped>\n",
       "  .table-result-container {\n",
       "    max-height: 300px;\n",
       "    overflow: auto;\n",
       "  }\n",
       "  table, th, td {\n",
       "    border: 1px solid black;\n",
       "    border-collapse: collapse;\n",
       "  }\n",
       "  th, td {\n",
       "    padding: 5px;\n",
       "  }\n",
       "  th {\n",
       "    text-align: left;\n",
       "  }\n",
       "</style><div class='table-result-container'><table class='table-result'><thead style='background-color: white'><tr><th>name</th><th>Highest_Salary</th></tr></thead><tbody><tr><td>Michael</td><td>120000</td></tr><tr><td>James</td><td>110000</td></tr><tr><td>Robert</td><td>105000</td></tr></tbody></table></div>"
      ]
     },
     "metadata": {
      "application/vnd.databricks.v1+output": {
       "addedWidgets": {},
       "aggData": [],
       "aggError": "",
       "aggOverflow": false,
       "aggSchema": [],
       "aggSeriesLimitReached": false,
       "aggType": "",
       "arguments": {},
       "columnCustomDisplayInfos": {},
       "data": [
        [
         "Michael",
         120000
        ],
        [
         "James",
         110000
        ],
        [
         "Robert",
         105000
        ]
       ],
       "datasetInfos": [],
       "dbfsResultPath": null,
       "isJsonSchema": true,
       "metadata": {},
       "overflow": false,
       "plotOptions": {
        "customPlotOptions": {},
        "displayType": "table",
        "pivotAggregation": null,
        "pivotColumns": null,
        "xColumns": null,
        "yColumns": null
       },
       "removedWidgets": [],
       "schema": [
        {
         "metadata": "{}",
         "name": "name",
         "type": "\"string\""
        },
        {
         "metadata": "{}",
         "name": "Highest_Salary",
         "type": "\"integer\""
        }
       ],
       "type": "table"
      }
     },
     "output_type": "display_data"
    }
   ],
   "source": [
    "from pyspark.sql.functions import col, max\n",
    "\n",
    "# Group by \"name\" and calculate the highest salary, then sort and limit\n",
    "df.groupBy(\"name\").agg(max(\"salary\").alias(\"Highest_Salary\")).orderBy(col(\"Highest_Salary\").desc()).limit(3).display()"
   ]
  },
  {
   "cell_type": "markdown",
   "metadata": {
    "application/vnd.databricks.v1+cell": {
     "cellMetadata": {},
     "inputWidgets": {},
     "nuid": "34ec7895-e54b-4cfc-95e4-ae5e940b4604",
     "showTitle": false,
     "tableResultSettingsMap": {},
     "title": ""
    }
   },
   "source": [
    "Identify the department with the highest total salary."
   ]
  },
  {
   "cell_type": "code",
   "execution_count": 0,
   "metadata": {
    "application/vnd.databricks.v1+cell": {
     "cellMetadata": {
      "byteLimit": 2048000,
      "rowLimit": 10000
     },
     "inputWidgets": {},
     "nuid": "a5944b3c-6f66-4457-a38f-df5fede79176",
     "showTitle": false,
     "tableResultSettingsMap": {},
     "title": ""
    }
   },
   "outputs": [
    {
     "output_type": "display_data",
     "data": {
      "text/html": [
       "<style scoped>\n",
       "  .table-result-container {\n",
       "    max-height: 300px;\n",
       "    overflow: auto;\n",
       "  }\n",
       "  table, th, td {\n",
       "    border: 1px solid black;\n",
       "    border-collapse: collapse;\n",
       "  }\n",
       "  th, td {\n",
       "    padding: 5px;\n",
       "  }\n",
       "  th {\n",
       "    text-align: left;\n",
       "  }\n",
       "</style><div class='table-result-container'><table class='table-result'><thead style='background-color: white'><tr><th>department</th><th>total_salary</th></tr></thead><tbody><tr><td>Finance</td><td>315000</td></tr></tbody></table></div>"
      ]
     },
     "metadata": {
      "application/vnd.databricks.v1+output": {
       "addedWidgets": {},
       "aggData": [],
       "aggError": "",
       "aggOverflow": false,
       "aggSchema": [],
       "aggSeriesLimitReached": false,
       "aggType": "",
       "arguments": {},
       "columnCustomDisplayInfos": {},
       "data": [
        [
         "Finance",
         315000
        ]
       ],
       "datasetInfos": [],
       "dbfsResultPath": null,
       "isJsonSchema": true,
       "metadata": {},
       "overflow": false,
       "plotOptions": {
        "customPlotOptions": {},
        "displayType": "table",
        "pivotAggregation": null,
        "pivotColumns": null,
        "xColumns": null,
        "yColumns": null
       },
       "removedWidgets": [],
       "schema": [
        {
         "metadata": "{}",
         "name": "department",
         "type": "\"string\""
        },
        {
         "metadata": "{}",
         "name": "total_salary",
         "type": "\"long\""
        }
       ],
       "type": "table"
      }
     },
     "output_type": "display_data"
    }
   ],
   "source": [
    "from pyspark.sql.functions import col, sum as _sum\n",
    "\n",
    "# Group by \"department\", calculate the total salary, and sort in descending order\n",
    "department_with_highest_salary = df.groupBy(\"department\").agg(_sum(\"salary\").alias(\"total_salary\")).orderBy(col(\"total_salary\").desc()).limit(1)\n",
    "\n",
    "# Display the result\n",
    "department_with_highest_salary.display()"
   ]
  },
  {
   "cell_type": "markdown",
   "metadata": {
    "application/vnd.databricks.v1+cell": {
     "cellMetadata": {},
     "inputWidgets": {},
     "nuid": "4cdca1fa-5f07-4d7d-97dd-fe31b8e0b622",
     "showTitle": false,
     "tableResultSettingsMap": {},
     "title": ""
    }
   },
   "source": [
    "Create a new DataFrame with employees earning more than the average salary."
   ]
  },
  {
   "cell_type": "code",
   "execution_count": 0,
   "metadata": {
    "application/vnd.databricks.v1+cell": {
     "cellMetadata": {
      "byteLimit": 2048000,
      "rowLimit": 10000
     },
     "inputWidgets": {},
     "nuid": "1eb3ec61-323f-418e-b3e5-f38e874f966b",
     "showTitle": false,
     "tableResultSettingsMap": {},
     "title": ""
    }
   },
   "outputs": [
    {
     "output_type": "display_data",
     "data": {
      "text/html": [
       "<style scoped>\n",
       "  .table-result-container {\n",
       "    max-height: 300px;\n",
       "    overflow: auto;\n",
       "  }\n",
       "  table, th, td {\n",
       "    border: 1px solid black;\n",
       "    border-collapse: collapse;\n",
       "  }\n",
       "  th, td {\n",
       "    padding: 5px;\n",
       "  }\n",
       "  th {\n",
       "    text-align: left;\n",
       "  }\n",
       "</style><div class='table-result-container'><table class='table-result'><thead style='background-color: white'><tr><th>id</th><th>name</th><th>age</th><th>department</th><th>salary</th><th>join_date</th></tr></thead><tbody><tr><td>3</td><td>Michael</td><td>45</td><td>Finance</td><td>120000</td><td>2010-01-10</td></tr><tr><td>5</td><td>David</td><td>38</td><td>Finance</td><td>90000</td><td>2017-08-23</td></tr><tr><td>7</td><td>James</td><td>41</td><td>IT</td><td>110000</td><td>2013-04-15</td></tr><tr><td>9</td><td>Robert</td><td>36</td><td>Finance</td><td>105000</td><td>2016-11-30</td></tr></tbody></table></div>"
      ]
     },
     "metadata": {
      "application/vnd.databricks.v1+output": {
       "addedWidgets": {},
       "aggData": [],
       "aggError": "",
       "aggOverflow": false,
       "aggSchema": [],
       "aggSeriesLimitReached": false,
       "aggType": "",
       "arguments": {},
       "columnCustomDisplayInfos": {},
       "data": [
        [
         3,
         "Michael",
         45,
         "Finance",
         120000,
         "2010-01-10"
        ],
        [
         5,
         "David",
         38,
         "Finance",
         90000,
         "2017-08-23"
        ],
        [
         7,
         "James",
         41,
         "IT",
         110000,
         "2013-04-15"
        ],
        [
         9,
         "Robert",
         36,
         "Finance",
         105000,
         "2016-11-30"
        ]
       ],
       "datasetInfos": [],
       "dbfsResultPath": null,
       "isJsonSchema": true,
       "metadata": {},
       "overflow": false,
       "plotOptions": {
        "customPlotOptions": {},
        "displayType": "table",
        "pivotAggregation": null,
        "pivotColumns": null,
        "xColumns": null,
        "yColumns": null
       },
       "removedWidgets": [],
       "schema": [
        {
         "metadata": "{}",
         "name": "id",
         "type": "\"integer\""
        },
        {
         "metadata": "{}",
         "name": "name",
         "type": "\"string\""
        },
        {
         "metadata": "{}",
         "name": "age",
         "type": "\"integer\""
        },
        {
         "metadata": "{}",
         "name": "department",
         "type": "\"string\""
        },
        {
         "metadata": "{}",
         "name": "salary",
         "type": "\"integer\""
        },
        {
         "metadata": "{}",
         "name": "join_date",
         "type": "\"string\""
        }
       ],
       "type": "table"
      }
     },
     "output_type": "display_data"
    }
   ],
   "source": [
    "from pyspark.sql.functions import col, avg\n",
    "\n",
    "average_salary = df.agg(avg(\"salary\").alias(\"average_salary\")).collect()[0][\"average_salary\"]\n",
    "\n",
    "employees_above_avg_salary = df.filter(col(\"salary\") > average_salary)\n",
    "\n",
    "employees_above_avg_salary.display()"
   ]
  },
  {
   "cell_type": "markdown",
   "metadata": {
    "application/vnd.databricks.v1+cell": {
     "cellMetadata": {},
     "inputWidgets": {},
     "nuid": "5f896e24-5fbe-49b6-a96a-ecbfd04386e6",
     "showTitle": false,
     "tableResultSettingsMap": {},
     "title": ""
    }
   },
   "source": [
    "Rename the column name to employee_name."
   ]
  },
  {
   "cell_type": "code",
   "execution_count": 0,
   "metadata": {
    "application/vnd.databricks.v1+cell": {
     "cellMetadata": {
      "byteLimit": 2048000,
      "rowLimit": 10000
     },
     "inputWidgets": {},
     "nuid": "9d001ee3-bed9-4545-a8fd-afbcb2795966",
     "showTitle": false,
     "tableResultSettingsMap": {},
     "title": ""
    }
   },
   "outputs": [
    {
     "output_type": "display_data",
     "data": {
      "text/html": [
       "<style scoped>\n",
       "  .table-result-container {\n",
       "    max-height: 300px;\n",
       "    overflow: auto;\n",
       "  }\n",
       "  table, th, td {\n",
       "    border: 1px solid black;\n",
       "    border-collapse: collapse;\n",
       "  }\n",
       "  th, td {\n",
       "    padding: 5px;\n",
       "  }\n",
       "  th {\n",
       "    text-align: left;\n",
       "  }\n",
       "</style><div class='table-result-container'><table class='table-result'><thead style='background-color: white'><tr><th>id</th><th>employee_name</th><th>age</th><th>department</th><th>salary</th><th>join_date</th></tr></thead><tbody><tr><td>1</td><td>John</td><td>34</td><td>IT</td><td>75000</td><td>2015-06-01</td></tr><tr><td>2</td><td>Sara</td><td>28</td><td>HR</td><td>58000</td><td>2019-09-15</td></tr><tr><td>3</td><td>Michael</td><td>45</td><td>Finance</td><td>120000</td><td>2010-01-10</td></tr><tr><td>4</td><td>Karen</td><td>29</td><td>IT</td><td>70000</td><td>2020-02-19</td></tr><tr><td>5</td><td>David</td><td>38</td><td>Finance</td><td>90000</td><td>2017-08-23</td></tr><tr><td>6</td><td>Linda</td><td>33</td><td>HR</td><td>60000</td><td>2018-12-05</td></tr><tr><td>7</td><td>James</td><td>41</td><td>IT</td><td>110000</td><td>2013-04-15</td></tr><tr><td>8</td><td>Emily</td><td>27</td><td>HR</td><td>52000</td><td>2021-06-20</td></tr><tr><td>9</td><td>Robert</td><td>36</td><td>Finance</td><td>105000</td><td>2016-11-30</td></tr></tbody></table></div>"
      ]
     },
     "metadata": {
      "application/vnd.databricks.v1+output": {
       "addedWidgets": {},
       "aggData": [],
       "aggError": "",
       "aggOverflow": false,
       "aggSchema": [],
       "aggSeriesLimitReached": false,
       "aggType": "",
       "arguments": {},
       "columnCustomDisplayInfos": {},
       "data": [
        [
         1,
         "John",
         34,
         "IT",
         75000,
         "2015-06-01"
        ],
        [
         2,
         "Sara",
         28,
         "HR",
         58000,
         "2019-09-15"
        ],
        [
         3,
         "Michael",
         45,
         "Finance",
         120000,
         "2010-01-10"
        ],
        [
         4,
         "Karen",
         29,
         "IT",
         70000,
         "2020-02-19"
        ],
        [
         5,
         "David",
         38,
         "Finance",
         90000,
         "2017-08-23"
        ],
        [
         6,
         "Linda",
         33,
         "HR",
         60000,
         "2018-12-05"
        ],
        [
         7,
         "James",
         41,
         "IT",
         110000,
         "2013-04-15"
        ],
        [
         8,
         "Emily",
         27,
         "HR",
         52000,
         "2021-06-20"
        ],
        [
         9,
         "Robert",
         36,
         "Finance",
         105000,
         "2016-11-30"
        ]
       ],
       "datasetInfos": [],
       "dbfsResultPath": null,
       "isJsonSchema": true,
       "metadata": {},
       "overflow": false,
       "plotOptions": {
        "customPlotOptions": {},
        "displayType": "table",
        "pivotAggregation": null,
        "pivotColumns": null,
        "xColumns": null,
        "yColumns": null
       },
       "removedWidgets": [],
       "schema": [
        {
         "metadata": "{}",
         "name": "id",
         "type": "\"integer\""
        },
        {
         "metadata": "{}",
         "name": "employee_name",
         "type": "\"string\""
        },
        {
         "metadata": "{}",
         "name": "age",
         "type": "\"integer\""
        },
        {
         "metadata": "{}",
         "name": "department",
         "type": "\"string\""
        },
        {
         "metadata": "{}",
         "name": "salary",
         "type": "\"integer\""
        },
        {
         "metadata": "{}",
         "name": "join_date",
         "type": "\"string\""
        }
       ],
       "type": "table"
      }
     },
     "output_type": "display_data"
    }
   ],
   "source": [
    "df_with_renamed_column = df.withColumnRenamed(\"name\", \"employee_name\")\n",
    "df_with_renamed_column.display()"
   ]
  },
  {
   "cell_type": "markdown",
   "metadata": {
    "application/vnd.databricks.v1+cell": {
     "cellMetadata": {},
     "inputWidgets": {},
     "nuid": "ff31c94d-3efc-48d5-b9d7-4232d31009c3",
     "showTitle": false,
     "tableResultSettingsMap": {},
     "title": ""
    }
   },
   "source": [
    "Find the number of employees in each department."
   ]
  },
  {
   "cell_type": "code",
   "execution_count": 0,
   "metadata": {
    "application/vnd.databricks.v1+cell": {
     "cellMetadata": {
      "byteLimit": 2048000,
      "rowLimit": 10000
     },
     "inputWidgets": {},
     "nuid": "67e88d73-e305-47e3-b4ac-8b5823f63541",
     "showTitle": false,
     "tableResultSettingsMap": {},
     "title": ""
    }
   },
   "outputs": [
    {
     "output_type": "display_data",
     "data": {
      "text/html": [
       "<style scoped>\n",
       "  .table-result-container {\n",
       "    max-height: 300px;\n",
       "    overflow: auto;\n",
       "  }\n",
       "  table, th, td {\n",
       "    border: 1px solid black;\n",
       "    border-collapse: collapse;\n",
       "  }\n",
       "  th, td {\n",
       "    padding: 5px;\n",
       "  }\n",
       "  th {\n",
       "    text-align: left;\n",
       "  }\n",
       "</style><div class='table-result-container'><table class='table-result'><thead style='background-color: white'><tr><th>department</th><th>employee_count</th></tr></thead><tbody><tr><td>HR</td><td>3</td></tr><tr><td>Finance</td><td>3</td></tr><tr><td>IT</td><td>3</td></tr></tbody></table></div>"
      ]
     },
     "metadata": {
      "application/vnd.databricks.v1+output": {
       "addedWidgets": {},
       "aggData": [],
       "aggError": "",
       "aggOverflow": false,
       "aggSchema": [],
       "aggSeriesLimitReached": false,
       "aggType": "",
       "arguments": {},
       "columnCustomDisplayInfos": {},
       "data": [
        [
         "HR",
         3
        ],
        [
         "Finance",
         3
        ],
        [
         "IT",
         3
        ]
       ],
       "datasetInfos": [],
       "dbfsResultPath": null,
       "isJsonSchema": true,
       "metadata": {},
       "overflow": false,
       "plotOptions": {
        "customPlotOptions": {},
        "displayType": "table",
        "pivotAggregation": null,
        "pivotColumns": null,
        "xColumns": null,
        "yColumns": null
       },
       "removedWidgets": [],
       "schema": [
        {
         "metadata": "{}",
         "name": "department",
         "type": "\"string\""
        },
        {
         "metadata": "{}",
         "name": "employee_count",
         "type": "\"long\""
        }
       ],
       "type": "table"
      }
     },
     "output_type": "display_data"
    }
   ],
   "source": [
    "df.groupBy(\"department\").agg(count(\"*\").alias(\"employee_count\")).display()"
   ]
  },
  {
   "cell_type": "markdown",
   "metadata": {
    "application/vnd.databricks.v1+cell": {
     "cellMetadata": {},
     "inputWidgets": {},
     "nuid": "c57f5d65-0184-42e4-bddf-6c14afc95c1b",
     "showTitle": false,
     "tableResultSettingsMap": {},
     "title": ""
    }
   },
   "source": [
    "Select and display only the id and name columns."
   ]
  },
  {
   "cell_type": "code",
   "execution_count": 0,
   "metadata": {
    "application/vnd.databricks.v1+cell": {
     "cellMetadata": {
      "byteLimit": 2048000,
      "rowLimit": 10000
     },
     "inputWidgets": {},
     "nuid": "8d3a2b07-564a-4a27-9480-f142e4f2c39b",
     "showTitle": false,
     "tableResultSettingsMap": {},
     "title": ""
    }
   },
   "outputs": [
    {
     "output_type": "display_data",
     "data": {
      "text/html": [
       "<style scoped>\n",
       "  .table-result-container {\n",
       "    max-height: 300px;\n",
       "    overflow: auto;\n",
       "  }\n",
       "  table, th, td {\n",
       "    border: 1px solid black;\n",
       "    border-collapse: collapse;\n",
       "  }\n",
       "  th, td {\n",
       "    padding: 5px;\n",
       "  }\n",
       "  th {\n",
       "    text-align: left;\n",
       "  }\n",
       "</style><div class='table-result-container'><table class='table-result'><thead style='background-color: white'><tr><th>id</th><th>name</th></tr></thead><tbody><tr><td>1</td><td>John</td></tr><tr><td>2</td><td>Sara</td></tr><tr><td>3</td><td>Michael</td></tr><tr><td>4</td><td>Karen</td></tr><tr><td>5</td><td>David</td></tr><tr><td>6</td><td>Linda</td></tr><tr><td>7</td><td>James</td></tr><tr><td>8</td><td>Emily</td></tr><tr><td>9</td><td>Robert</td></tr></tbody></table></div>"
      ]
     },
     "metadata": {
      "application/vnd.databricks.v1+output": {
       "addedWidgets": {},
       "aggData": [],
       "aggError": "",
       "aggOverflow": false,
       "aggSchema": [],
       "aggSeriesLimitReached": false,
       "aggType": "",
       "arguments": {},
       "columnCustomDisplayInfos": {},
       "data": [
        [
         1,
         "John"
        ],
        [
         2,
         "Sara"
        ],
        [
         3,
         "Michael"
        ],
        [
         4,
         "Karen"
        ],
        [
         5,
         "David"
        ],
        [
         6,
         "Linda"
        ],
        [
         7,
         "James"
        ],
        [
         8,
         "Emily"
        ],
        [
         9,
         "Robert"
        ]
       ],
       "datasetInfos": [],
       "dbfsResultPath": null,
       "isJsonSchema": true,
       "metadata": {},
       "overflow": false,
       "plotOptions": {
        "customPlotOptions": {},
        "displayType": "table",
        "pivotAggregation": null,
        "pivotColumns": null,
        "xColumns": null,
        "yColumns": null
       },
       "removedWidgets": [],
       "schema": [
        {
         "metadata": "{}",
         "name": "id",
         "type": "\"integer\""
        },
        {
         "metadata": "{}",
         "name": "name",
         "type": "\"string\""
        }
       ],
       "type": "table"
      }
     },
     "output_type": "display_data"
    }
   ],
   "source": [
    "df.select(\"id\", \"name\").display()"
   ]
  },
  {
   "cell_type": "markdown",
   "metadata": {
    "application/vnd.databricks.v1+cell": {
     "cellMetadata": {},
     "inputWidgets": {},
     "nuid": "28500a41-6503-42a3-a01e-e677ec5434d7",
     "showTitle": false,
     "tableResultSettingsMap": {},
     "title": ""
    }
   },
   "source": [
    "Check for any null values in the dataset."
   ]
  },
  {
   "cell_type": "code",
   "execution_count": 0,
   "metadata": {
    "application/vnd.databricks.v1+cell": {
     "cellMetadata": {
      "byteLimit": 2048000,
      "rowLimit": 10000
     },
     "inputWidgets": {},
     "nuid": "d709f1fe-bfe7-4e1f-913e-c68bef1fad2f",
     "showTitle": false,
     "tableResultSettingsMap": {},
     "title": ""
    }
   },
   "outputs": [
    {
     "output_type": "display_data",
     "data": {
      "text/html": [
       "<style scoped>\n",
       "  .table-result-container {\n",
       "    max-height: 300px;\n",
       "    overflow: auto;\n",
       "  }\n",
       "  table, th, td {\n",
       "    border: 1px solid black;\n",
       "    border-collapse: collapse;\n",
       "  }\n",
       "  th, td {\n",
       "    padding: 5px;\n",
       "  }\n",
       "  th {\n",
       "    text-align: left;\n",
       "  }\n",
       "</style><div class='table-result-container'><table class='table-result'><thead style='background-color: white'><tr><th>id</th><th>name</th><th>age</th><th>department</th><th>salary</th><th>join_date</th></tr></thead><tbody><tr><td>0</td><td>0</td><td>0</td><td>0</td><td>0</td><td>0</td></tr></tbody></table></div>"
      ]
     },
     "metadata": {
      "application/vnd.databricks.v1+output": {
       "addedWidgets": {},
       "aggData": [],
       "aggError": "",
       "aggOverflow": false,
       "aggSchema": [],
       "aggSeriesLimitReached": false,
       "aggType": "",
       "arguments": {},
       "columnCustomDisplayInfos": {},
       "data": [
        [
         0,
         0,
         0,
         0,
         0,
         0
        ]
       ],
       "datasetInfos": [],
       "dbfsResultPath": null,
       "isJsonSchema": true,
       "metadata": {},
       "overflow": false,
       "plotOptions": {
        "customPlotOptions": {},
        "displayType": "table",
        "pivotAggregation": null,
        "pivotColumns": null,
        "xColumns": null,
        "yColumns": null
       },
       "removedWidgets": [],
       "schema": [
        {
         "metadata": "{}",
         "name": "id",
         "type": "\"long\""
        },
        {
         "metadata": "{}",
         "name": "name",
         "type": "\"long\""
        },
        {
         "metadata": "{}",
         "name": "age",
         "type": "\"long\""
        },
        {
         "metadata": "{}",
         "name": "department",
         "type": "\"long\""
        },
        {
         "metadata": "{}",
         "name": "salary",
         "type": "\"long\""
        },
        {
         "metadata": "{}",
         "name": "join_date",
         "type": "\"long\""
        }
       ],
       "type": "table"
      }
     },
     "output_type": "display_data"
    }
   ],
   "source": [
    "null_counts = df.select([sum(col(c).isNull().cast(\"int\")).alias(c) for c in df.columns]).display()"
   ]
  }
 ],
 "metadata": {
  "application/vnd.databricks.v1+notebook": {
   "dashboards": [],
   "environmentMetadata": null,
   "language": "python",
   "notebookMetadata": {
    "mostRecentlyExecutedCommandWithImplicitDF": {
     "commandId": 1432075146547075,
     "dataframes": [
      "_sqldf"
     ]
    },
    "pythonIndentUnit": 4
   },
   "notebookName": "Pyspark Assessment",
   "widgets": {}
  }
 },
 "nbformat": 4,
 "nbformat_minor": 0
}
